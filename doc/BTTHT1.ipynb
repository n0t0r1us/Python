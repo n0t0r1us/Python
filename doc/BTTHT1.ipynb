{
  "nbformat": 4,
  "nbformat_minor": 0,
  "metadata": {
    "colab": {
      "name": "BTTHT1.ipynb",
      "provenance": []
    },
    "kernelspec": {
      "name": "python3",
      "display_name": "Python 3"
    },
    "language_info": {
      "name": "python"
    }
  },
  "cells": [
    {
      "cell_type": "code",
      "execution_count": null,
      "metadata": {
        "id": "fitDn_md54Ys"
      },
      "outputs": [],
      "source": [
        "#@title BT11\n",
        "a=float(input(\"Mời nhập số a: \"))\n",
        "b=float(input(\"Mời nhập số b: \"))\n",
        "c=float(input(\"Mời nhập số c: \"))\n",
        "if a+b>c and a+c>b and b+c>a:\n",
        "    print(a,',',b,',',c,'Là 3 cạnh của 1 tam giác')\n",
        "    if a==b or b==c or a==c:\n",
        "      print(a,',',b,',',c,'Là tam giác cân')\n",
        "    if a==b and b==c:\n",
        "      print(a,',',b,',',c,'Là tam giác đều')\n",
        "    if a**2==b**2+c**2 or b**2==c**2+a**2 or c**2==a**2+b**2:\n",
        "      print(a,',',b,',',c,'Là tam giác vuông')\n",
        "      if a==b or b==c or c==a:\n",
        "        print(a,',',b,',',c,'Là tam giác vuông cân')\n",
        "else:\n",
        "    print(a,',',b,',',c,'không phải là tam giác')\n"
      ]
    },
    {
      "cell_type": "code",
      "source": [
        "#@title BT15\n",
        "a = float(input(\"Mời nhập cân nặng của bạn: \"))\n",
        "b = float(input(\"Mời nhập chiều cao của bạn: \"))\n",
        "c = a/(2*b)\n",
        "print(\"Chỉ số BMI của bạn là: \",c,end=\", Phân loại: \")\n",
        "if c<18.5:\n",
        "       print(\"Sẽ gầy\")\n",
        "elif c>=18.5 and c<=22.9:\n",
        "       print(\"Bình thường\")\n",
        "elif c>=23:\n",
        "       print(\"Thừa cân\")\n",
        "elif c>=23 and c<=24.9:\n",
        "       print(\"Tiền béo phì\")\n",
        "elif c>=25 and c<=29.9:\n",
        "       print(\"Béo phì độ I\")\n",
        "elif c>=30:\n",
        "       print(\"Béo phì độ II\")\n",
        "elif c>=40:\n",
        "       print(\"Béo phì độ III\")"
      ],
      "metadata": {
        "id": "U-oPpYz757iO"
      },
      "execution_count": null,
      "outputs": []
    }
  ]
}